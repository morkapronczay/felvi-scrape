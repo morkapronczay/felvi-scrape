{
 "cells": [
  {
   "cell_type": "code",
   "execution_count": 1,
   "metadata": {},
   "outputs": [],
   "source": [
    "import requests\n",
    "from bs4 import BeautifulSoup\n",
    "import pandas as pd\n",
    "import re\n",
    "import unicodedata"
   ]
  },
  {
   "cell_type": "markdown",
   "metadata": {},
   "source": [
    "## GET STARTING PAGE WITH UNIVERSITIES"
   ]
  },
  {
   "cell_type": "code",
   "execution_count": 2,
   "metadata": {},
   "outputs": [],
   "source": [
    "r = requests.get('https://www.felvi.hu/felveteli/egyetemek_foiskolak/!IntezmenyiOldalak/intezmeny_lista.php?elj=20a')"
   ]
  },
  {
   "cell_type": "code",
   "execution_count": 5,
   "metadata": {},
   "outputs": [],
   "source": [
    "soup = BeautifulSoup(r.content, 'lxml')"
   ]
  },
  {
   "cell_type": "code",
   "execution_count": 6,
   "metadata": {},
   "outputs": [],
   "source": [
    "# get subpage url of university programs\n",
    "def extract_uni_and_href(soup, base_url='https://www.felvi.hu'):\n",
    "    out = {}\n",
    "    trs = soup.findAll('tr')\n",
    "    \n",
    "    for tr in trs:\n",
    "        try:\n",
    "            tr.findAll('td')[0]['title']\n",
    "            for i, td in enumerate(tr.findAll('td')):\n",
    "                if i in (0,2):\n",
    "                    continue\n",
    "                elif i in (1,3):\n",
    "                    title = td['title']\n",
    "                    href = td.findAll('a')[0]['href']\n",
    "                    out[title] = f\"{base_url}{href}\".replace('&elj=20a', '&oldal=2&elj=20a')\n",
    "        except KeyError:\n",
    "            continue\n",
    "        \n",
    "    return out"
   ]
  },
  {
   "cell_type": "code",
   "execution_count": 7,
   "metadata": {},
   "outputs": [],
   "source": [
    "uni_links = extract_uni_and_href(soup)"
   ]
  },
  {
   "cell_type": "markdown",
   "metadata": {},
   "source": [
    "## GET SUBPAGES IF DEPARTMENTS HAVE DIFFERENT SUBPAGES"
   ]
  },
  {
   "cell_type": "code",
   "execution_count": 10,
   "metadata": {},
   "outputs": [],
   "source": [
    "def try_extract_subpages(uni_links, base_url='https://www.felvi.hu'):\n",
    "    new_uni_links = {}\n",
    "    keys_to_delete = []\n",
    "    for k, v in uni_links.items():\n",
    "        r = requests.get(v)\n",
    "        soup = BeautifulSoup(r.content, 'lxml')\n",
    "        subpages = [elem for elem in soup.findAll('a') if k in elem.text]    \n",
    "        if len(subpages) > 0:\n",
    "            keys_to_delete.append(k)\n",
    "            for elem in subpages:\n",
    "                href = elem['href']\n",
    "                new_uni_links[unicodedata.normalize(\"NFKD\", elem.text).strip()] = f\"{base_url}{href}\".replace('&elj=20a', '&oldal=2&elj=20a')\n",
    "    return new_uni_links, keys_to_delete"
   ]
  },
  {
   "cell_type": "code",
   "execution_count": 11,
   "metadata": {},
   "outputs": [],
   "source": [
    "new_uni_links, keys_to_delete = try_extract_subpages(uni_links)"
   ]
  },
  {
   "cell_type": "code",
   "execution_count": 12,
   "metadata": {},
   "outputs": [],
   "source": [
    "uni_links = {k: v for k, v in uni_links.items() if not k in keys_to_delete}"
   ]
  },
  {
   "cell_type": "code",
   "execution_count": 13,
   "metadata": {},
   "outputs": [],
   "source": [
    "total_uni_links = {**uni_links, **new_uni_links}"
   ]
  },
  {
   "cell_type": "markdown",
   "metadata": {},
   "source": [
    "## GET TABLES FROM THESE PAGES"
   ]
  },
  {
   "cell_type": "code",
   "execution_count": 14,
   "metadata": {},
   "outputs": [],
   "source": [
    "def get_tables(href):\n",
    "    r = requests.get(href)\n",
    "    return pd.read_html(r.content, header=0)"
   ]
  },
  {
   "cell_type": "code",
   "execution_count": 15,
   "metadata": {},
   "outputs": [],
   "source": [
    "tables = {k: get_tables(v) for k,v in total_uni_links.items()}"
   ]
  },
  {
   "cell_type": "code",
   "execution_count": 16,
   "metadata": {},
   "outputs": [],
   "source": [
    "# THROW AWAY FOREIGN UNIs AND MISSING DATA\n",
    "keys_to_remove = []\n",
    "for k, v in tables.items():\n",
    "    try:\n",
    "        v[5]\n",
    "    except IndexError:\n",
    "        keys_to_remove.append(k)"
   ]
  },
  {
   "cell_type": "code",
   "execution_count": 17,
   "metadata": {},
   "outputs": [],
   "source": [
    "tables = {k: v for k, v in tables.items() if not k in keys_to_remove}"
   ]
  },
  {
   "cell_type": "markdown",
   "metadata": {},
   "source": [
    "## FIND TABLE WITH THE PROGRAMS"
   ]
  },
  {
   "cell_type": "code",
   "execution_count": 18,
   "metadata": {},
   "outputs": [],
   "source": [
    "def find_rel_table(table_list):\n",
    "    ret_tables = []\n",
    "    for table in table_list:\n",
    "        if 'Képz.szint' in table.columns:\n",
    "            ret_tables.append(table)\n",
    "    return ret_tables"
   ]
  },
  {
   "cell_type": "code",
   "execution_count": 19,
   "metadata": {},
   "outputs": [],
   "source": [
    "pot_tables = {k: find_rel_table(v) for k, v in tables.items()}"
   ]
  },
  {
   "cell_type": "code",
   "execution_count": 21,
   "metadata": {},
   "outputs": [],
   "source": [
    "more_tab = {k: v for k,v in pot_tables.items() if len(v) > 1}"
   ]
  },
  {
   "cell_type": "markdown",
   "metadata": {},
   "source": [
    "## ADD UNI ID AND CONCAT"
   ]
  },
  {
   "cell_type": "code",
   "execution_count": 27,
   "metadata": {},
   "outputs": [],
   "source": [
    "for k, v in pot_tables.items():\n",
    "    for tab in v:\n",
    "        tab['Intézmény/Kar'] = k"
   ]
  },
  {
   "cell_type": "code",
   "execution_count": 29,
   "metadata": {},
   "outputs": [],
   "source": [
    "out = pd.concat([item for sublist in list(pot_tables.values()) for item in sublist], sort=False, ignore_index=True)"
   ]
  },
  {
   "cell_type": "code",
   "execution_count": 32,
   "metadata": {},
   "outputs": [
    {
     "data": {
      "text/plain": [
       "N    4884\n",
       "L    1719\n",
       "E      59\n",
       "T      34\n",
       "Name: Munka-rend, dtype: int64"
      ]
     },
     "execution_count": 32,
     "metadata": {},
     "output_type": "execute_result"
    }
   ],
   "source": [
    "out['Munka-rend'].value_counts()"
   ]
  },
  {
   "cell_type": "markdown",
   "metadata": {},
   "source": [
    "## POLISH AND WRITE TO FILE"
   ]
  },
  {
   "cell_type": "code",
   "execution_count": 35,
   "metadata": {},
   "outputs": [],
   "source": [
    "out.columns = [unicodedata.normalize(\"NFKD\", col) for col in out.columns]"
   ]
  },
  {
   "cell_type": "code",
   "execution_count": 36,
   "metadata": {},
   "outputs": [],
   "source": [
    "def strip_numbers_from_end(string):\n",
    "    for i in range(20):\n",
    "        if str(i) in string:\n",
    "            string = string.rstrip(f'{str(i)})').rstrip('(')\n",
    "        else:\n",
    "            continue\n",
    "    return string"
   ]
  },
  {
   "cell_type": "code",
   "execution_count": 37,
   "metadata": {},
   "outputs": [],
   "source": [
    "out['Meghirdetett képzés - lábjegyzet nélkül'] = [strip_numbers_from_end(f) for f in out['Meghirdetett képzés']]"
   ]
  },
  {
   "cell_type": "code",
   "execution_count": 38,
   "metadata": {},
   "outputs": [
    {
     "data": {
      "text/plain": [
       "Képz.szint                                               6696\n",
       "Munka-rend                                                6696\n",
       "Fin.forma                                                 6696\n",
       "Meghirdetett képzés                                     6696\n",
       "Önköltség (félév)                                    6696\n",
       "Képz. idő(félév)                                      6696\n",
       "Kapacitásmin. < max.                                     6696\n",
       "Személyes megjelenést igénylő vizsgaformák             21\n",
       "Képz.terület                                            6696\n",
       "Intézmény/Kar                                           6696\n",
       "Érettségi vizsgakövetelmények a pontszámításhoz    6587\n",
       "Pontsz. fels. okl. IGEN/NEM                               6675\n",
       "Vizsgatárgyak                                              88\n",
       "Meghirdetett képzés - lábjegyzet nélkül                 6696\n",
       "dtype: int64"
      ]
     },
     "execution_count": 38,
     "metadata": {},
     "output_type": "execute_result"
    }
   ],
   "source": [
    "out.shape[0] - out.isnull().sum()"
   ]
  },
  {
   "cell_type": "code",
   "execution_count": 40,
   "metadata": {},
   "outputs": [],
   "source": [
    "out.to_excel('felvi-2020-meghirdetett-kepzesek.xlsx')"
   ]
  },
  {
   "cell_type": "code",
   "execution_count": null,
   "metadata": {},
   "outputs": [],
   "source": []
  }
 ],
 "metadata": {
  "kernelspec": {
   "display_name": "Python 3",
   "language": "python",
   "name": "python3"
  },
  "language_info": {
   "codemirror_mode": {
    "name": "ipython",
    "version": 3
   },
   "file_extension": ".py",
   "mimetype": "text/x-python",
   "name": "python",
   "nbconvert_exporter": "python",
   "pygments_lexer": "ipython3",
   "version": "3.7.4"
  }
 },
 "nbformat": 4,
 "nbformat_minor": 2
}
